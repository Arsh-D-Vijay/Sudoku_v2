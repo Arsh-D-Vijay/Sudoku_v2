{
 "cells": [
  {
   "cell_type": "markdown",
   "id": "be7ae030",
   "metadata": {},
   "source": [
    "## Utility Functions\n",
    "\n",
    "All the funcitons required in pre processing the image before feeding it to model, is defined here\n",
    "\n",
    "* pre_processed() - before finding contours we need to process the image \n",
    "        1.a first we will convert it into gray image\n",
    "        1.b then we will introduce blur into image \n",
    "        1.c lastly, we will apply thresholding to filter out the image and distinguish various features\n",
    "\n",
    "* sharpen() - to sharpen the image\n",
    "* biggest_contour() - Out of all Contours we have found we want to keep the largest one\n",
    "\n",
    "* reorder() - Consider the box below, the problem with finding contour it is that we are not sure in what order we r getting them, i.e. if the first contour is A for some other image B could be first contour and Since we want to Crop Out the Sudoku from our Initial image we have to have the corners in ordered form. So I created an reorder function that will give me ordered points of our biggest contour\n",
    "    \n",
    "                                    A-----------B\n",
    "                                    |           |\n",
    "                                    |           |\n",
    "                                    |           |\n",
    "                                    C-----------D\n",
    "\n",
    "* split_boxes() - after warping out our main sudoku now we want to further divide it into smaller boxes to feed that to our ml model. Since img is an array we can simply divide the array in 9 rows and 9 columns and store each box in out return array boxes\n",
    "\n",
    "* get_pred() - Now we run our CNN model to classify the images "
   ]
  },
  {
   "cell_type": "code",
   "execution_count": 1,
   "id": "18e0c1f6",
   "metadata": {},
   "outputs": [],
   "source": [
    "def pre_processed(img):\n",
    "    gray_img = cv2.cvtColor(img,cv2.COLOR_BGR2GRAY) # GRAY IMAGE\n",
    "    blur_img = cv2.GaussianBlur(gray_img, (3,3) ,1) # Gaussian blur(src,kernel_size(#always odd),border)\n",
    "    threshold_img = cv2.adaptiveThreshold(gray_img, 255, 1, 1, 9, 1) \n",
    "    return threshold_img"
   ]
  },
  {
   "cell_type": "code",
   "execution_count": 2,
   "id": "7a0f242d",
   "metadata": {},
   "outputs": [],
   "source": [
    "def sharpen(img):\n",
    "    S_Filter = np.array([[-1,-1,-1],\n",
    "                     [-1,9,-1],\n",
    "                     [-1,-1,-1]])\n",
    "    img = cv2.filter2D(img,-1,S_Filter)\n",
    "    return img"
   ]
  },
  {
   "cell_type": "code",
   "execution_count": 3,
   "id": "74c05267",
   "metadata": {},
   "outputs": [],
   "source": [
    "def biggest_contour(contours):\n",
    "    biggest = np.array([])\n",
    "    max_area = 0\n",
    "    for i in contours:\n",
    "        area = cv2.contourArea(i)\n",
    "        if area >1000: # removing noise i.e. small areas\n",
    "            peri = cv2.arcLength(i,True) # perimeter\n",
    "            approx = cv2.approxPolyDP(i,0.02*peri, True) # find how many corners does it have\n",
    "            if area>max_area and len(approx) == 4:\n",
    "                biggest = approx\n",
    "                max_area = area\n",
    "    return biggest, max_area"
   ]
  },
  {
   "cell_type": "code",
   "execution_count": 4,
   "id": "910db824",
   "metadata": {},
   "outputs": [],
   "source": [
    "def reorder(contour_pts):\n",
    "    contour_pts = contour_pts.reshape((4,2))\n",
    "    ordered_pts = np.zeros((4,1,2),dtype = np.int32)\n",
    "    add = contour_pts.sum(1)\n",
    "    ordered_pts[0] = contour_pts[np.argmin(add)]\n",
    "    ordered_pts[2] = contour_pts[np.argmax(add)]\n",
    "    diff = np.diff(contour_pts, axis=1)\n",
    "    ordered_pts[1] = contour_pts[np.argmin(diff)]\n",
    "    ordered_pts[3] = contour_pts[np.argmax(diff)]\n",
    "    return ordered_pts"
   ]
  },
  {
   "cell_type": "code",
   "execution_count": 5,
   "id": "075469d5",
   "metadata": {},
   "outputs": [],
   "source": [
    "def split_boxes(warped_img):\n",
    "    row = np.vsplit(warped_img,9)\n",
    "    boxes = []\n",
    "    for r in row:\n",
    "        cols = np.hsplit(r,9)\n",
    "        for box in cols:\n",
    "            box = sharpen(box)\n",
    "            boxes.append(box)\n",
    "    return boxes"
   ]
  },
  {
   "cell_type": "code",
   "execution_count": 6,
   "id": "528ebc35",
   "metadata": {},
   "outputs": [],
   "source": [
    "def get_pred(boxes,model):\n",
    "    size = 32\n",
    "    numbers = []\n",
    "    i = 1\n",
    "    for box in boxes:\n",
    "#         box = cv2.resize(box,(size,size))\n",
    "        box = cv2.cvtColor(box, cv2.COLOR_BGR2GRAY)\n",
    "#         box = cv2.equalizeHist(box)\n",
    "        box = np.asarray(box)\n",
    "        box = box.reshape(1,size,size,1)\n",
    "        box = box/255.0\n",
    "        pred_prob = model.predict(box)\n",
    "        print(i,np.argmax(pred_prob), np.max(pred_prob))\n",
    "        if np.max(pred_prob) <= 0.7:\n",
    "            pred_num = 0\n",
    "        else:\n",
    "            pred_num = np.argmax(pred_prob)\n",
    "        numbers.append(pred_num)\n",
    "        i+=1\n",
    "    return numbers"
   ]
  }
 ],
 "metadata": {
  "kernelspec": {
   "display_name": "Python 3",
   "language": "python",
   "name": "python3"
  },
  "language_info": {
   "codemirror_mode": {
    "name": "ipython",
    "version": 3
   },
   "file_extension": ".py",
   "mimetype": "text/x-python",
   "name": "python",
   "nbconvert_exporter": "python",
   "pygments_lexer": "ipython3",
   "version": "3.8.10"
  }
 },
 "nbformat": 4,
 "nbformat_minor": 5
}
