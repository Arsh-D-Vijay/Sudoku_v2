{
 "cells": [
  {
   "cell_type": "markdown",
   "metadata": {},
   "source": [
    "# Sudoku Solver"
   ]
  },
  {
   "cell_type": "markdown",
   "metadata": {},
   "source": [
    "### Introduction\n",
    "The aim of this project is to solve Sudoku using backtracking and recurssion.\n",
    "\n",
    "A sudoku is a 9x9 square matrix divided in 9 equal squares of 3x3.\n",
    "\n",
    "### Rules:\n",
    "The number to be filled in a position should ***not*** be present in :\n",
    "* Column\n",
    "* Row\n",
    "* Its 3x3 square"
   ]
  },
  {
   "cell_type": "code",
   "execution_count": 2,
   "metadata": {},
   "outputs": [],
   "source": [
    "board = [[0, 0, 0, 9,0, 2, 0, 0, 0],\n",
    "         [0, 4, 0, 0, 0, 0, 0, 5, 0],\n",
    "         [0,0 ,2, 0 ,0, 0, 3, 0 ,0],\n",
    "         [2, 0, 0, 0,0, 0, 0, 0 ,7],\n",
    "         [0, 0, 0,4 ,5, 6, 0, 0 ,0],\n",
    "         [6, 0, 0, 0, 0,0, 0, 0 ,9],\n",
    "         [0, 0, 7, 0,0 ,0, 8, 0 ,0],\n",
    "         [0, 3 ,0, 0, 0, 0, 0, 4, 0],\n",
    "         [0, 0, 0, 2, 0,7, 0,0, 0]]"
   ]
  },
  {
   "cell_type": "markdown",
   "metadata": {},
   "source": [
    "## Utility Functions:"
   ]
  },
  {
   "cell_type": "code",
   "execution_count": 3,
   "metadata": {},
   "outputs": [],
   "source": [
    "def Print_Board(Board):\n",
    "    for i in range(9):\n",
    "        if i == 3 or i == 6:\n",
    "            print(\"-----------------------\")\n",
    "        for j in range(9):\n",
    "            if j == 3 or j == 6 :\n",
    "                print(\"|\", end=' ')\n",
    "            print(Board[i][j], end = \" \")\n",
    "            if j==8:\n",
    "                print('|')\n",
    "    print(\"\\n\")\n",
    "# Print_Board(board)"
   ]
  },
  {
   "cell_type": "code",
   "execution_count": 4,
   "metadata": {},
   "outputs": [],
   "source": [
    "def Find_pos(bo):\n",
    "    for x in range(9):\n",
    "        for y in range(9):\n",
    "            if bo[x][y] == 0:\n",
    "                return (x,y)\n",
    "    return (-1,-1)"
   ]
  },
  {
   "cell_type": "code",
   "execution_count": 5,
   "metadata": {},
   "outputs": [],
   "source": [
    "def Is_valid(board,num,pos):\n",
    "    for i in range(9): \n",
    "        if board[pos[0]][i] == num:\n",
    "            return False\n",
    "    for j in  range(9):\n",
    "        if board[j][pos[1]] == num:\n",
    "            return False\n",
    "    bo_x = pos[0]//3\n",
    "    bo_y = pos[1]//3\n",
    "    for i in range(bo_x*3,bo_x*3 +3):\n",
    "        for j in range(bo_y*3,bo_y*3 + 3):\n",
    "            if board[i][j]==num:\n",
    "                return False\n",
    "    return True"
   ]
  },
  {
   "cell_type": "markdown",
   "metadata": {},
   "source": [
    "----------------"
   ]
  },
  {
   "cell_type": "markdown",
   "metadata": {},
   "source": [
    "## Main Function:"
   ]
  },
  {
   "cell_type": "code",
   "execution_count": 6,
   "metadata": {},
   "outputs": [],
   "source": [
    "def solve(board):\n",
    "#     Print_Board(board)\n",
    "    pos = Find_pos(board)\n",
    "    if pos[0] == -1:\n",
    "        return True\n",
    "    for i in range(1,10):\n",
    "        if Is_valid(board,i,pos) == True:\n",
    "            board[pos[0]][pos[1]] = i\n",
    "            if solve(board):\n",
    "                return True\n",
    "            board[pos[0]][pos[1]] = 0\n",
    "    return False"
   ]
  },
  {
   "cell_type": "code",
   "execution_count": 8,
   "metadata": {},
   "outputs": [
    {
     "name": "stdout",
     "output_type": "stream",
     "text": [
      "Solution Found!!!\n",
      "3 8 5 | 9 4 2 | 6 7 1 |\n",
      "9 4 6 | 1 7 3 | 2 5 8 |\n",
      "1 7 2 | 5 6 8 | 3 9 4 |\n",
      "-----------------------\n",
      "2 1 4 | 8 3 9 | 5 6 7 |\n",
      "7 9 8 | 4 5 6 | 1 2 3 |\n",
      "6 5 3 | 7 2 1 | 4 8 9 |\n",
      "-----------------------\n",
      "5 2 7 | 3 9 4 | 8 1 6 |\n",
      "8 3 9 | 6 1 5 | 7 4 2 |\n",
      "4 6 1 | 2 8 7 | 9 3 5 |\n",
      "\n",
      "\n"
     ]
    }
   ],
   "source": [
    "# if solve(board):\n",
    "#     print('Solution Found!!!')\n",
    "#     Print_Board(board)    "
   ]
  },
  {
   "cell_type": "code",
   "execution_count": null,
   "metadata": {},
   "outputs": [],
   "source": []
  }
 ],
 "metadata": {
  "kernelspec": {
   "display_name": "Python 3",
   "language": "python",
   "name": "python3"
  },
  "language_info": {
   "codemirror_mode": {
    "name": "ipython",
    "version": 3
   },
   "file_extension": ".py",
   "mimetype": "text/x-python",
   "name": "python",
   "nbconvert_exporter": "python",
   "pygments_lexer": "ipython3",
   "version": "3.8.10"
  }
 },
 "nbformat": 4,
 "nbformat_minor": 4
}
